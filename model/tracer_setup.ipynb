{
 "cells": [
  {
   "cell_type": "markdown",
   "id": "89dfe142",
   "metadata": {},
   "source": [
    "Tracer Setup\n",
    "==\n",
    "\n",
    "One Tracer Per Station\n",
    "--\n",
    "\n",
    "A tracer and associated point source are added for each fixed station. One conservative \n",
    "tracer, an age tracer, and potentially an age-variance tracer.\n",
    "\n",
    "To reconstruct the field, look at the tracer values at the point in time/space. Get\n",
    "a list of source stations, an age to know how far back to extract the observation,\n",
    "and the combination of age and conservative concentration to inform the weighting.\n",
    "\n",
    "\n",
    "Only works for fixed stations.\n",
    "Number of tracers $\\sim$ number of stations.\n",
    "Time mixing might not be as desired. Stagnant water will get a mean age of half the simulation time, even though in reality we'd have the most recent measurement.\n",
    "\n",
    "There is a fundamental issue of normalizing information loss associated with dilution and associated with time past. \n",
    "\n",
    "N Tracers per Analyte\n",
    "--\n",
    "\n",
    "Is there way to do it more like the remote-sensed chlorophyll model?\n",
    "\n",
    "Each observation carries with it an information measure and a value. Typically then you'd set the information to 1.0, information age to 0, and the analyte to the observation.\n",
    "\n",
    "If we know a temporal decoupling time scale, then the information and any values scaled by it would decay at that rate.\n",
    "\n",
    "In the simpler case of no decay, how do we interpret mixing?\n",
    "- say a parcel is dosed with an observation, and on the next tide that parcel comes back and is dosed with a new observation.\n",
    "- without getting clever, we'll end up with an analyte value that is the mean, and an age that is the mean.\n",
    "\n",
    "So there needs to be a way for a new observation to have greater weight than an old observation. Really calls out for having a decay...\n",
    "\n",
    "Particles\n",
    "--\n",
    "\n",
    "Each observation creates a small cloud of particles labeled by release time. To reconstruct a field take all of the particles at that instant (which ultimately could include some backwards tracked particles). Each particle is put onto the grid with some amount of diffusion based on its age. While far from perfect, this helps with using small numbers of particles. With particles we can choose after the fact the relationship of diffusion effects and age. Could also have a weight that decreases with age. And could look for trends as a function of time, which might suggest reactions.\n",
    "\n",
    "Downsides"
   ]
  }
 ],
 "metadata": {
  "kernelspec": {
   "display_name": "Python 3 (ipykernel)",
   "language": "python",
   "name": "python3"
  },
  "language_info": {
   "codemirror_mode": {
    "name": "ipython",
    "version": 3
   },
   "file_extension": ".py",
   "mimetype": "text/x-python",
   "name": "python",
   "nbconvert_exporter": "python",
   "pygments_lexer": "ipython3",
   "version": "3.10.11"
  }
 },
 "nbformat": 4,
 "nbformat_minor": 5
}
