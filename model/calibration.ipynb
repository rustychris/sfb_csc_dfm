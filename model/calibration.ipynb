{
 "cells": [
  {
   "cell_type": "code",
   "execution_count": 1,
   "metadata": {},
   "outputs": [],
   "source": [
    "import matplotlib.pyplot as plt\n",
    "import stompy.model.delft.dflow_model as dfm\n",
    "import stompy.model.hydro_model as hm\n",
    "import xarray as xr\n",
    "import pandas as pd\n",
    "%matplotlib notebook"
   ]
  },
  {
   "cell_type": "code",
   "execution_count": 5,
   "metadata": {},
   "outputs": [
    {
     "name": "stdout",
     "output_type": "stream",
     "text": [
      "DFM_ROOT NOT SET\n"
     ]
    }
   ],
   "source": [
    "import sfb_csc\n",
    "Model=sfb_csc.SfbCsc"
   ]
  },
  {
   "cell_type": "code",
   "execution_count": 4,
   "metadata": {},
   "outputs": [
    {
     "name": "stdout",
     "output_type": "stream",
     "text": [
      "barker_data.py             dem_cell_node_bathy.py     \u001b[0m\u001b[01;34mold\u001b[0m/\r\n",
      "batch_2d_2019_summer.sh    Dependencies.md            \u001b[01;34m__pycache__\u001b[0m/\r\n",
      "batch_2d_2019_summer.sh~   Dependencies.md~           rough_regions.py\r\n",
      "batch_3d_2019_summer.sh    extra_code.py              run_sfb_csc_test.py\r\n",
      "batch_3d_2019_summer.sh~   geometry_input_fields.txt  sfb_csc.py\r\n",
      "\u001b[01;34mcache\u001b[0m/                     hec_script.py              sfb_csc.py~\r\n",
      "calibration.ipynb          local_config.py            slurm_out-61677139.output\r\n",
      "\u001b[01;34mdata_2d_2019_summer\u001b[0m/       local_config.py~           template.mdu\r\n",
      "\u001b[01;34mdata_2d_2019_summer-v000\u001b[0m/  local_config.py.in         Untitled.ipynb\r\n"
     ]
    }
   ],
   "source": [
    "ls"
   ]
  },
  {
   "cell_type": "code",
   "execution_count": 2,
   "metadata": {},
   "outputs": [],
   "source": [
    "runs=[\n",
    "    dict(run_dir=\"data_2d_2019_summer\",\n",
    "         label=\"2D\")\n",
    "     ]\n",
    "\n",
    "runs=pd.DataFrame(runs)"
   ]
  },
  {
   "cell_type": "code",
   "execution_count": 6,
   "metadata": {},
   "outputs": [
    {
     "name": "stderr",
     "output_type": "stream",
     "text": [
      "INFO:HydroModel:Duplicating depth to node_z_bed for less ambiguous naming, and assuming it was already positive-up\n",
      "WARNING:HydroModel:SWP not plumbed\n",
      "WARNING:HydroModel:SWP not plumbed\n"
     ]
    },
    {
     "name": "stdout",
     "output_type": "stream",
     "text": [
      "132935 nodes will get default of 0.02\n"
     ]
    }
   ],
   "source": [
    "runs['model'] = runs['run_dir'].apply(lambda r: Model.load(r))"
   ]
  },
  {
   "cell_type": "code",
   "execution_count": 9,
   "metadata": {},
   "outputs": [],
   "source": [
    "# Dev for stage comparisons\n",
    "his_ds=runs.loc[0,'model'].his_dataset()\n"
   ]
  },
  {
   "cell_type": "code",
   "execution_count": 10,
   "metadata": {},
   "outputs": [
    {
     "data": {
      "text/plain": [
       "<xarray.Dataset>\n",
       "Dimensions:                                       (cross_section: 29, cross_section_geom_nNodes: 191, gategens: 1, laydim: 10, laydimw: 11, nFlowElemContourPts: 4, nFlowElemWithBnd: 10759, nFlowLink: 17115, nFlowLinkPts: 2, nNetLink: 19916, nNetLinkPts: 2, source_sink: 282, source_sink_geom_nNodes: 282, source_sink_pts: 1, station_geom_nNodes: 51, stations: 51, time: 2)\n",
       "Coordinates:\n",
       "    station_x_coordinate                          (stations) float64 ...\n",
       "    station_y_coordinate                          (stations) float64 ...\n",
       "    station_name                                  (stations) |S256 b'HS1                                                                                                                                                                                                                                                             ' ... b'mdot_HS2                                                                                                                                                                                                                                                        '\n",
       "    zcoordinate_c                                 (time, stations, laydim) float64 ...\n",
       "    zcoordinate_w                                 (time, stations, laydimw) float64 ...\n",
       "    zcoordinate_wu                                (time, stations, laydimw) float64 ...\n",
       "    cross_section_name                            (cross_section) |S256 b'RioVista                                                                                                                                                                                                                                                        ' ... b'SG1                                                                                                                                                                                                                                                             '\n",
       "    source_sink_name                              (source_sink) |S256 b'DCD0004                                                                                                                                                                                                                                                         ' ... b'DCD0330                                                                                                                                                                                                                                                         '\n",
       "    gategen_name                                  (gategens) |S256 b'dcc                                                                                                                                                                                                                                                             '\n",
       "  * time                                          (time) datetime64[ns] 2019-04-01 2019-04-01T00:01:24.301462272\n",
       "  * cross_section                                 (cross_section) <U16 'RioVista' ... 'SG1'\n",
       "  * source_sink                                   (source_sink) <U7 'DCD0004' ... 'DCD0330'\n",
       "  * stations                                      (stations) <U22 'HS1' ... 'mdot_HS2'\n",
       "  * gategens                                      (gategens) <U3 'dcc'\n",
       "Dimensions without coordinates: cross_section_geom_nNodes, laydim, laydimw, nFlowElemContourPts, nFlowElemWithBnd, nFlowLink, nFlowLinkPts, nNetLink, nNetLinkPts, source_sink_geom_nNodes, source_sink_pts, station_geom_nNodes\n",
       "Data variables:\n",
       "    FlowElem_xcc                                  (nFlowElemWithBnd) float64 ...\n",
       "    FlowElem_ycc                                  (nFlowElemWithBnd) float64 ...\n",
       "    FlowElem_zcc                                  (nFlowElemWithBnd) float64 ...\n",
       "    FlowElem_bac                                  (nFlowElemWithBnd) float64 ...\n",
       "    FlowElem_xzw                                  (nFlowElemWithBnd) float64 ...\n",
       "    FlowElem_yzw                                  (nFlowElemWithBnd) float64 ...\n",
       "    FlowElemContour_x                             (nFlowElemWithBnd, nFlowElemContourPts) float64 ...\n",
       "    FlowElemContour_y                             (nFlowElemWithBnd, nFlowElemContourPts) float64 ...\n",
       "    FlowElem_bl                                   (nFlowElemWithBnd) float64 ...\n",
       "    ElemLink                                      (nNetLink, nNetLinkPts) int32 ...\n",
       "    FlowLink                                      (nFlowLink, nFlowLinkPts) int32 ...\n",
       "    FlowLinkType                                  (nFlowLink) int32 ...\n",
       "    FlowLink_xu                                   (nFlowLink) float64 ...\n",
       "    FlowLink_yu                                   (nFlowLink) float64 ...\n",
       "    projected_coordinate_system                   int32 ...\n",
       "    FlowLink_lonu                                 (nFlowLink) float64 ...\n",
       "    FlowLink_latu                                 (nFlowLink) float64 ...\n",
       "    FlowElemDomain                                (nFlowElemWithBnd) int32 ...\n",
       "    FlowLinkDomain                                (nFlowLink) int32 ...\n",
       "    FlowElemGlobalNr                              (nFlowElemWithBnd) int32 ...\n",
       "    station_id                                    (stations) |S256 ...\n",
       "    station_geom                                  int32 ...\n",
       "    station_geom_node_count                       (stations) int32 ...\n",
       "    station_geom_node_coordx                      (station_geom_nNodes) float64 ...\n",
       "    station_geom_node_coordy                      (station_geom_nNodes) float64 ...\n",
       "    waterlevel                                    (time, stations) float64 ...\n",
       "    bedlevel                                      (stations) float64 ...\n",
       "    taus                                          (time, stations) float64 ...\n",
       "    x_velocity                                    (time, stations, laydim) float64 ...\n",
       "    y_velocity                                    (time, stations, laydim) float64 ...\n",
       "    z_velocity                                    (time, stations, laydim) float64 ...\n",
       "    depth-averaged_x_velocity                     (time, stations) float64 ...\n",
       "    depth-averaged_y_velocity                     (time, stations) float64 ...\n",
       "    tke                                           (time, stations, laydimw) float64 ...\n",
       "    vicww                                         (time, stations, laydimw) float64 ...\n",
       "    eps                                           (time, stations, laydimw) float64 ...\n",
       "    rich                                          (time, stations, laydimw) float64 ...\n",
       "    salinity                                      (time, stations, laydim) float64 ...\n",
       "    velocity_magnitude                            (time, stations, laydim) float64 ...\n",
       "    discharge_magnitude                           (time, stations, laydim) float64 ...\n",
       "    wtau                                          (time, stations) float64 ...\n",
       "    density                                       (time, stations, laydim) float64 ...\n",
       "    cross_section_geom                            (cross_section) object LINESTRING (615232.941 4224588.2913, 615314.564 4224538.7772, 615398.8240558985 4224473.883289635, 615484.5726079202 4224404.666647853, 615577.6923168964 4224338.672655835, 615680.2159 4224265.1625, 615768.7461211868 4224200.242068712, 615367.2254999999 4218063.8008, 615321.1297 4218071.8741) ... LINESTRING (614273.1283 4240777.8173, 614307.1516 4240779.1368, 614341.0122999999 4240780.0513, 0 0, 9.5367431640625e-07 1678653248.822469)\n",
       "    cross_section_geom_node_count                 (cross_section) int32 9 ... 5\n",
       "    cross_section_geom_node_coordx                (cross_section_geom_nNodes) float64 6.152e+05 ... 9.537e-07\n",
       "    cross_section_geom_node_coordy                (cross_section_geom_nNodes) float64 4.225e+06 ... 1.679e+09\n",
       "    cross_section_discharge                       (time, cross_section) float64 ...\n",
       "    cross_section_cumulative_discharge            (time, cross_section) float64 ...\n",
       "    cross_section_area                            (time, cross_section) float64 ...\n",
       "    cross_section_velocity                        (time, cross_section) float64 ...\n",
       "    cross_section_cumulative_salt                 (time, cross_section) float64 ...\n",
       "    cross_section_salt                            (time, cross_section) float64 ...\n",
       "    source_sink_geom                              int32 ...\n",
       "    source_sink_geom_node_count                   (source_sink) int32 ...\n",
       "    source_sink_geom_node_coordx                  (source_sink_geom_nNodes) float64 ...\n",
       "    source_sink_geom_node_coordy                  (source_sink_geom_nNodes) float64 ...\n",
       "    source_sink_x_coordinate                      (source_sink_pts, source_sink) float64 ...\n",
       "    source_sink_y_coordinate                      (source_sink_pts, source_sink) float64 ...\n",
       "    source_sink_prescribed_discharge              (time, source_sink) float64 ...\n",
       "    source_sink_prescribed_salinity_increment     (time, source_sink) float64 ...\n",
       "    source_sink_prescribed_temperature_increment  (time, source_sink) float64 ...\n",
       "    source_sink_current_discharge                 (time, source_sink) float64 ...\n",
       "    source_sink_cumulative_volume                 (time, source_sink) float64 ...\n",
       "    source_sink_discharge_average                 (time, source_sink) float64 ...\n",
       "    water_balance_total_volume                    (time) float64 ...\n",
       "    water_balance_storage                         (time) float64 ...\n",
       "    water_balance_volume_error                    (time) float64 ...\n",
       "    water_balance_boundaries_in                   (time) float64 ...\n",
       "    water_balance_boundaries_out                  (time) float64 ...\n",
       "    water_balance_boundaries_total                (time) float64 ...\n",
       "    water_balance_exchange_with_1D_in             (time) float64 ...\n",
       "    water_balance_exchange_with_1D_out            (time) float64 ...\n",
       "    water_balance_exchange_with_1D_total          (time) float64 ...\n",
       "    water_balance_precipitation_total             (time) float64 ...\n",
       "    water_balance_evaporation                     (time) float64 ...\n",
       "    water_balance_source_sink                     (time) float64 ...\n",
       "    water_balance_groundwater_in                  (time) float64 ...\n",
       "    water_balance_groundwater_out                 (time) float64 ...\n",
       "    water_balance_groundwater_total               (time) float64 ...\n",
       "    water_balance_laterals_in                     (time) float64 ...\n",
       "    water_balance_laterals_out                    (time) float64 ...\n",
       "    water_balance_laterals_total                  (time) float64 ...\n",
       "    water_balance_laterals_in_1D                  (time) float64 ...\n",
       "    water_balance_laterals_out_1D                 (time) float64 ...\n",
       "    water_balance_laterals_total_1D               (time) float64 ...\n",
       "    water_balance_laterals_in_2D                  (time) float64 ...\n",
       "    water_balance_laterals_out_2D                 (time) float64 ...\n",
       "    water_balance_laterals_total_2D               (time) float64 ...\n",
       "    water_balance_Qext_in                         (time) float64 ...\n",
       "    water_balance_Qext_out                        (time) float64 ...\n",
       "    water_balance_Qext_total                      (time) float64 ...\n",
       "    water_balance_Qext_in_1D                      (time) float64 ...\n",
       "    water_balance_Qext_out_1D                     (time) float64 ...\n",
       "    water_balance_Qext_total_1D                   (time) float64 ...\n",
       "    water_balance_Qext_in_2D                      (time) float64 ...\n",
       "    water_balance_Qext_out_2D                     (time) float64 ...\n",
       "    water_balance_Qext_total_2D                   (time) float64 ...\n",
       "    water_balance_total_volume_interception       (time) float64 ...\n",
       "    water_balance_evaporation_interception        (time) float64 ...\n",
       "    water_balance_precipitation_on_ground         (time) float64 ...\n",
       "    gategen_geom                                  int32 ...\n",
       "    gategen_geom_node_count                       (gategens) int32 ...\n",
       "    gategen_discharge                             (time, gategens) float64 ...\n",
       "    gategen_crest_level                           (time, gategens) float64 ...\n",
       "    gategen_crest_width                           (time, gategens) float64 ...\n",
       "    gategen_gate_lower_edge_level                 (time, gategens) float64 ...\n",
       "    gategen_flow_through_height                   (time, gategens) float64 ...\n",
       "    gategen_gate_opening_width                    (time, gategens) float64 ...\n",
       "    gategen_s1up                                  (time, gategens) float64 ...\n",
       "    gategen_s1dn                                  (time, gategens) float64 ...\n",
       "    timestep                                      (time) float64 ...\n",
       "Attributes:\n",
       "    institution:    Deltares\n",
       "    references:     http://www.deltares.nl\n",
       "    source:         Deltares, D-Flow FM Version 1.2.143.141115M, May 17 2022,...\n",
       "    history:        Created on 2023-03-12T13:34:13-0700, D-Flow FM\n",
       "    date_created:   2023-03-12T13:34:13-0700\n",
       "    date_modified:  2023-03-12T13:34:13-0700\n",
       "    Conventions:    CF-1.5 Deltares-0.1\n",
       "    long_name:      y-coordinate of gategen\n",
       "    units:          m\n",
       "    standard_name:  projection_y_coordinate\n",
       "    axis:           Y"
      ]
     },
     "execution_count": 10,
     "metadata": {},
     "output_type": "execute_result"
    }
   ],
   "source": [
    "his_ds # 51 stations."
   ]
  },
  {
   "cell_type": "code",
   "execution_count": 14,
   "metadata": {},
   "outputs": [],
   "source": [
    "# Define observations. Use the same classes as for BCs\n",
    "# since they already have the relevant dynamic loading\n",
    "observations={\n",
    "    'SRV':dict(stage=hm.NwisStageBC(11455420,name='SRV'),\n",
    "               flow=hm.NwisFlowBC(11455420,name='SRV'))\n",
    "}"
   ]
  },
  {
   "cell_type": "code",
   "execution_count": null,
   "metadata": {},
   "outputs": [],
   "source": [
    "import stompy.model.data_comparison as dc\n",
    "\n",
    "class StageCompare:\n",
    "    pred=None # for stage, name of stations in DFM output\n",
    "    obs=None  # will look for observations[obs]['stage']\n",
    "    def __init__(self,**kw):\n",
    "        utils.set_keywords(self,kw)\n",
    "        \n",
    "    def assemble_data(self):\n",
    "        \n",
    "    def figure(self):\n",
    "        "
   ]
  },
  {
   "cell_type": "code",
   "execution_count": 11,
   "metadata": {},
   "outputs": [
    {
     "data": {
      "text/plain": [
       "<xarray.DataArray 'stations' (stations: 51)>\n",
       "array(['HS1', 'DOP', 'CCS', 'SG1', 'LN2', 'HAAS', 'SOI', 'SXS', 'RYI', 'HBW',\n",
       "       'SSS', 'SUT', 'GES', 'DWS', 'LIB', 'LIS', 'FPX', 'SRV', 'LSHB', 'CCS1',\n",
       "       'CCEH', 'BSPP', 'CCSC', 'WildlandsUpMarsh_stage', 'DLC', 'GSS', 'SDC',\n",
       "       'SDI', 'TSL', 'CourtlandToe', 'LIY', 'ToeAtLiberty', 'HollandNBreach',\n",
       "       'LibertyIslandCut', 'LibCutHolland', 'MIR', 'node320-drain',\n",
       "       'node320-div', 'HST', 'DWSCTL', 'mdot_CC2', 'mdot_LN1', 'mdot_CA3',\n",
       "       'mdot_HS1', 'mdot_BK1', 'mdot_CC1', 'mdot_BK2', 'mdot_CAUL', 'mdot_UL1',\n",
       "       'mdot_CA1', 'mdot_HS2'], dtype='<U22')\n",
       "Coordinates:\n",
       "    station_x_coordinate  (stations) float64 ...\n",
       "    station_y_coordinate  (stations) float64 ...\n",
       "    station_name          (stations) |S256 b'HS1                                                                                                                                                                                                                                                             ' ... b'mdot_HS2                                                                                                                                                                                                                                                        '\n",
       "  * stations              (stations) <U22 'HS1' 'DOP' ... 'mdot_CA1' 'mdot_HS2'"
      ]
     },
     "execution_count": 11,
     "metadata": {},
     "output_type": "execute_result"
    }
   ],
   "source": [
    "# Start with Rio Vista\n",
    "# HERE\n",
    "comparisons=[\n",
    "    # it should be relatively painless to compare two stations\n",
    "    # from one model against another model or observation.\n",
    "    StageCompare(runs=runs,pred='SRV',obs='SRV')\n",
    "]\n",
    "\n",
    "for comp in comparisons:\n",
    "    comp.figure()"
   ]
  }
 ],
 "metadata": {
  "kernelspec": {
   "display_name": "Python 3",
   "language": "python",
   "name": "python3"
  },
  "language_info": {
   "codemirror_mode": {
    "name": "ipython",
    "version": 3
   },
   "file_extension": ".py",
   "mimetype": "text/x-python",
   "name": "python",
   "nbconvert_exporter": "python",
   "pygments_lexer": "ipython3",
   "version": "3.7.3"
  },
  "toc": {
   "base_numbering": 1,
   "nav_menu": {},
   "number_sections": true,
   "sideBar": true,
   "skip_h1_title": false,
   "title_cell": "Table of Contents",
   "title_sidebar": "Contents",
   "toc_cell": false,
   "toc_position": {},
   "toc_section_display": true,
   "toc_window_display": false
  }
 },
 "nbformat": 4,
 "nbformat_minor": 2
}
